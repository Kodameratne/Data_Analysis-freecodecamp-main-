{
  "nbformat": 4,
  "nbformat_minor": 0,
  "metadata": {
    "colab": {
      "name": "NumPy_Exercise.ipynb",
      "provenance": [],
      "authorship_tag": "ABX9TyNQDr0ahBL6Pa5hy7z4Qp5D",
      "include_colab_link": true
    },
    "kernelspec": {
      "name": "python3",
      "display_name": "Python 3"
    },
    "language_info": {
      "name": "python"
    }
  },
  "cells": [
    {
      "cell_type": "markdown",
      "metadata": {
        "id": "view-in-github",
        "colab_type": "text"
      },
      "source": [
        "<a href=\"https://colab.research.google.com/github/Kodameratne/Data_Analysis-freecodecamp/blob/main/Exercises/NumPy/NumPy_Exercise.ipynb\" target=\"_parent\"><img src=\"https://colab.research.google.com/assets/colab-badge.svg\" alt=\"Open In Colab\"/></a>"
      ]
    },
    {
      "cell_type": "code",
      "metadata": {
        "id": "lPumAiTxMCi6",
        "colab": {
          "base_uri": "https://localhost:8080/"
        },
        "outputId": "dcdf5b20-b949-4959-f850-f3e13bee372a"
      },
      "source": [
        "import numpy as np\n",
        "print(np.__version__)"
      ],
      "execution_count": null,
      "outputs": [
        {
          "output_type": "stream",
          "text": [
            "1.19.5\n"
          ],
          "name": "stdout"
        }
      ]
    },
    {
      "cell_type": "code",
      "metadata": {
        "id": "HPyAiXwyM-I3",
        "colab": {
          "base_uri": "https://localhost:8080/"
        },
        "outputId": "6527d9c3-db3b-45c2-ffad-8b99737ce31d"
      },
      "source": [
        "np.zeros(10)"
      ],
      "execution_count": null,
      "outputs": [
        {
          "output_type": "execute_result",
          "data": {
            "text/plain": [
              "array([0., 0., 0., 0., 0., 0., 0., 0., 0., 0.])"
            ]
          },
          "metadata": {
            "tags": []
          },
          "execution_count": 3
        }
      ]
    },
    {
      "cell_type": "code",
      "metadata": {
        "id": "6MxxucceNELO",
        "colab": {
          "base_uri": "https://localhost:8080/"
        },
        "outputId": "32ed2865-47fe-445d-c9d3-9d3a62e3a8d7"
      },
      "source": [
        "np.arange(10,50)"
      ],
      "execution_count": null,
      "outputs": [
        {
          "output_type": "execute_result",
          "data": {
            "text/plain": [
              "array([10, 11, 12, 13, 14, 15, 16, 17, 18, 19, 20, 21, 22, 23, 24, 25, 26,\n",
              "       27, 28, 29, 30, 31, 32, 33, 34, 35, 36, 37, 38, 39, 40, 41, 42, 43,\n",
              "       44, 45, 46, 47, 48, 49])"
            ]
          },
          "metadata": {
            "tags": []
          },
          "execution_count": 5
        }
      ]
    },
    {
      "cell_type": "code",
      "metadata": {
        "id": "SYwNet5nNKkl",
        "colab": {
          "base_uri": "https://localhost:8080/"
        },
        "outputId": "8ab21ad3-0c14-497a-a597-ecedc445ada8"
      },
      "source": [
        "np.ones([2,2],dtype=np.int)"
      ],
      "execution_count": null,
      "outputs": [
        {
          "output_type": "execute_result",
          "data": {
            "text/plain": [
              "array([[1, 1],\n",
              "       [1, 1]])"
            ]
          },
          "metadata": {
            "tags": []
          },
          "execution_count": 6
        }
      ]
    },
    {
      "cell_type": "code",
      "metadata": {
        "id": "J4X-NUnaNUwd",
        "colab": {
          "base_uri": "https://localhost:8080/"
        },
        "outputId": "66f3bb3c-7d75-4199-e2cc-c5ab8df9d499"
      },
      "source": [
        "np.ones([3,2],dtype=np.float)"
      ],
      "execution_count": null,
      "outputs": [
        {
          "output_type": "execute_result",
          "data": {
            "text/plain": [
              "array([[1., 1.],\n",
              "       [1., 1.],\n",
              "       [1., 1.]])"
            ]
          },
          "metadata": {
            "tags": []
          },
          "execution_count": 7
        }
      ]
    },
    {
      "cell_type": "code",
      "metadata": {
        "id": "UuJ_PPhcNcQG",
        "colab": {
          "base_uri": "https://localhost:8080/"
        },
        "outputId": "6608e1f6-364d-4ba6-c2e4-94c8d32753da"
      },
      "source": [
        "X=np.arange(4,dtype=np.int)\n",
        "np.ones_like(X)"
      ],
      "execution_count": null,
      "outputs": [
        {
          "output_type": "execute_result",
          "data": {
            "text/plain": [
              "array([1, 1, 1, 1])"
            ]
          },
          "metadata": {
            "tags": []
          },
          "execution_count": 8
        }
      ]
    },
    {
      "cell_type": "code",
      "metadata": {
        "id": "ITO-tn5VNpue",
        "colab": {
          "base_uri": "https://localhost:8080/"
        },
        "outputId": "5d17c2d1-8446-45b5-c606-7866711f1a41"
      },
      "source": [
        "X=np.arange(4,dtype=np.int)\n",
        "np.zeros_like(X)"
      ],
      "execution_count": null,
      "outputs": [
        {
          "output_type": "execute_result",
          "data": {
            "text/plain": [
              "array([0, 0, 0, 0])"
            ]
          },
          "metadata": {
            "tags": []
          },
          "execution_count": 9
        }
      ]
    },
    {
      "cell_type": "code",
      "metadata": {
        "id": "ayik0EvcNzCO",
        "colab": {
          "base_uri": "https://localhost:8080/"
        },
        "outputId": "965ccf8a-2ea5-4d60-9737-85348e4b9f15"
      },
      "source": [
        "np.ones([4,4],dtype=np.int)*5"
      ],
      "execution_count": null,
      "outputs": [
        {
          "output_type": "execute_result",
          "data": {
            "text/plain": [
              "array([[5, 5, 5, 5],\n",
              "       [5, 5, 5, 5],\n",
              "       [5, 5, 5, 5],\n",
              "       [5, 5, 5, 5]])"
            ]
          },
          "metadata": {
            "tags": []
          },
          "execution_count": 10
        }
      ]
    },
    {
      "cell_type": "code",
      "metadata": {
        "id": "MTDL1g9LODft",
        "colab": {
          "base_uri": "https://localhost:8080/"
        },
        "outputId": "a6819bf0-6c07-453a-973f-922a65be1107"
      },
      "source": [
        "A=np.array([[2,3],[6,2]],dtype=float)\n",
        "np.ones_like(A)*7"
      ],
      "execution_count": null,
      "outputs": [
        {
          "output_type": "execute_result",
          "data": {
            "text/plain": [
              "array([[7., 7.],\n",
              "       [7., 7.]])"
            ]
          },
          "metadata": {
            "tags": []
          },
          "execution_count": 13
        }
      ]
    },
    {
      "cell_type": "code",
      "metadata": {
        "id": "rA2-2z5LOS79",
        "colab": {
          "base_uri": "https://localhost:8080/"
        },
        "outputId": "b7effb73-c897-4c5f-9556-66651b0bb866"
      },
      "source": [
        "np.identity(3)"
      ],
      "execution_count": null,
      "outputs": [
        {
          "output_type": "execute_result",
          "data": {
            "text/plain": [
              "array([[1., 0., 0.],\n",
              "       [0., 1., 0.],\n",
              "       [0., 0., 1.]])"
            ]
          },
          "metadata": {
            "tags": []
          },
          "execution_count": 14
        }
      ]
    },
    {
      "cell_type": "code",
      "metadata": {
        "id": "406NdmrjOv4V",
        "colab": {
          "base_uri": "https://localhost:8080/"
        },
        "outputId": "5e006c37-ef41-4755-cab8-6b722f9984fe"
      },
      "source": [
        "np.random.randint(10,size=3)"
      ],
      "execution_count": null,
      "outputs": [
        {
          "output_type": "execute_result",
          "data": {
            "text/plain": [
              "array([7, 5, 4])"
            ]
          },
          "metadata": {
            "tags": []
          },
          "execution_count": 5
        }
      ]
    },
    {
      "cell_type": "code",
      "metadata": {
        "id": "Vr8A2FEO7JC7",
        "colab": {
          "base_uri": "https://localhost:8080/"
        },
        "outputId": "9ca5cc6b-6aa2-4aac-ecd3-a2f54557c7df"
      },
      "source": [
        "np.random.randn(3,3,3)"
      ],
      "execution_count": null,
      "outputs": [
        {
          "output_type": "execute_result",
          "data": {
            "text/plain": [
              "array([[[ 1.17815806, -0.37880182,  1.20451614],\n",
              "        [-0.18709403,  1.86797786, -0.29368525],\n",
              "        [-2.20197499,  1.43349372,  0.21963361]],\n",
              "\n",
              "       [[ 0.22309206,  1.19585263,  1.43503886],\n",
              "        [ 0.91153294,  1.27776336,  0.12782225],\n",
              "        [ 0.11016613,  0.57523502, -0.45253575]],\n",
              "\n",
              "       [[-0.13830298, -0.27134382,  0.12719429],\n",
              "        [ 0.27109983,  0.80959744,  0.80629404],\n",
              "        [ 0.87693159,  1.13378274,  0.5989108 ]]])"
            ]
          },
          "metadata": {
            "tags": []
          },
          "execution_count": 6
        }
      ]
    },
    {
      "cell_type": "code",
      "metadata": {
        "id": "tvy6oj-z7Vkv",
        "colab": {
          "base_uri": "https://localhost:8080/"
        },
        "outputId": "fb0a75e9-213c-4109-a16d-77131af74fdf"
      },
      "source": [
        "X=[1,2,3]\n",
        "print(X,type(X))\n",
        "\n",
        "Y=np.array(X)\n",
        "print(Y,type(Y))"
      ],
      "execution_count": null,
      "outputs": [
        {
          "output_type": "stream",
          "text": [
            "[1, 2, 3] <class 'list'>\n",
            "[1 2 3] <class 'numpy.ndarray'>\n"
          ],
          "name": "stdout"
        }
      ]
    },
    {
      "cell_type": "code",
      "metadata": {
        "id": "8Q2VM9dh7l3H",
        "colab": {
          "base_uri": "https://localhost:8080/"
        },
        "outputId": "ee25e2bb-cada-48ee-f4db-ad2ec96a3b07"
      },
      "source": [
        "X=np.array([5,2,3], dtype=np.int)\n",
        "print(X,id(X))\n",
        "\n",
        "Y=np.copy(X)\n",
        "print(Y,id(Y))"
      ],
      "execution_count": null,
      "outputs": [
        {
          "output_type": "stream",
          "text": [
            "[5 2 3] 139976938845808\n",
            "[5 2 3] 139976875558032\n"
          ],
          "name": "stdout"
        }
      ]
    },
    {
      "cell_type": "code",
      "metadata": {
        "id": "C7_XONbi78ue",
        "colab": {
          "base_uri": "https://localhost:8080/"
        },
        "outputId": "798030b6-2432-4ce5-9d0f-b985c1988d25"
      },
      "source": [
        "np.arange(1,11)"
      ],
      "execution_count": null,
      "outputs": [
        {
          "output_type": "execute_result",
          "data": {
            "text/plain": [
              "array([ 1,  2,  3,  4,  5,  6,  7,  8,  9, 10])"
            ]
          },
          "metadata": {
            "tags": []
          },
          "execution_count": 10
        }
      ]
    },
    {
      "cell_type": "code",
      "metadata": {
        "id": "GTpb6xYh8CTm",
        "colab": {
          "base_uri": "https://localhost:8080/"
        },
        "outputId": "e7f6b0ad-186b-497d-be97-8a2e8f5e51f5"
      },
      "source": [
        "np.arange(1,11,2)"
      ],
      "execution_count": null,
      "outputs": [
        {
          "output_type": "execute_result",
          "data": {
            "text/plain": [
              "array([1, 3, 5, 7, 9])"
            ]
          },
          "metadata": {
            "tags": []
          },
          "execution_count": 12
        }
      ]
    },
    {
      "cell_type": "code",
      "metadata": {
        "id": "R5DnsKl38H_e",
        "colab": {
          "base_uri": "https://localhost:8080/"
        },
        "outputId": "8671220a-2f82-4710-baeb-0fc8fe04740e"
      },
      "source": [
        "np.arange(1,11)[::-1]"
      ],
      "execution_count": null,
      "outputs": [
        {
          "output_type": "execute_result",
          "data": {
            "text/plain": [
              "array([10,  9,  8,  7,  6,  5,  4,  3,  2,  1])"
            ]
          },
          "metadata": {
            "tags": []
          },
          "execution_count": 13
        }
      ]
    },
    {
      "cell_type": "code",
      "metadata": {
        "id": "EbwKuOcj8NAF",
        "colab": {
          "base_uri": "https://localhost:8080/"
        },
        "outputId": "01f91a96-9c47-4edb-e240-237f609a72e5"
      },
      "source": [
        "np.arange(9).reshape(3,3)"
      ],
      "execution_count": null,
      "outputs": [
        {
          "output_type": "execute_result",
          "data": {
            "text/plain": [
              "array([[0, 1, 2],\n",
              "       [3, 4, 5],\n",
              "       [6, 7, 8]])"
            ]
          },
          "metadata": {
            "tags": []
          },
          "execution_count": 14
        }
      ]
    },
    {
      "cell_type": "code",
      "metadata": {
        "id": "4LRrocfY9F3d",
        "colab": {
          "base_uri": "https://localhost:8080/"
        },
        "outputId": "1b9755f2-976b-40c9-dbbb-8794ecefb544"
      },
      "source": [
        "Z=np.zeros((10,10))\n",
        "print(\"%d bytes\"%(Z.size*Z.itemsize))"
      ],
      "execution_count": null,
      "outputs": [
        {
          "output_type": "stream",
          "text": [
            "800 bytes\n"
          ],
          "name": "stdout"
        }
      ]
    },
    {
      "cell_type": "code",
      "metadata": {
        "id": "IKeMJUlc9Tmd",
        "colab": {
          "base_uri": "https://localhost:8080/",
          "height": 35
        },
        "outputId": "6458ae7e-73b1-49cf-c592-220a0f76aee8"
      },
      "source": [
        "X = np.array(['A','B','C','D','E'])\n",
        "X[0]"
      ],
      "execution_count": null,
      "outputs": [
        {
          "output_type": "execute_result",
          "data": {
            "application/vnd.google.colaboratory.intrinsic+json": {
              "type": "string"
            },
            "text/plain": [
              "'A'"
            ]
          },
          "metadata": {
            "tags": []
          },
          "execution_count": 17
        }
      ]
    },
    {
      "cell_type": "code",
      "metadata": {
        "id": "e1xOF5iV9aOV",
        "colab": {
          "base_uri": "https://localhost:8080/",
          "height": 35
        },
        "outputId": "1d75c9df-8f75-4393-e7ff-508708f7bf03"
      },
      "source": [
        "X = np.array(['A','B','C','D','E'])\n",
        "X[-1]"
      ],
      "execution_count": null,
      "outputs": [
        {
          "output_type": "execute_result",
          "data": {
            "application/vnd.google.colaboratory.intrinsic+json": {
              "type": "string"
            },
            "text/plain": [
              "'E'"
            ]
          },
          "metadata": {
            "tags": []
          },
          "execution_count": 18
        }
      ]
    },
    {
      "cell_type": "code",
      "metadata": {
        "id": "MELLCDNx9dn1",
        "colab": {
          "base_uri": "https://localhost:8080/"
        },
        "outputId": "efc7babc-9535-4127-824d-d75806ecaf16"
      },
      "source": [
        "X = np.array(['A','B','C','D','E'])\n",
        "X[0:3]"
      ],
      "execution_count": null,
      "outputs": [
        {
          "output_type": "execute_result",
          "data": {
            "text/plain": [
              "array(['A', 'B', 'C'], dtype='<U1')"
            ]
          },
          "metadata": {
            "tags": []
          },
          "execution_count": 19
        }
      ]
    },
    {
      "cell_type": "code",
      "metadata": {
        "id": "lrSFZaIj9hYN",
        "colab": {
          "base_uri": "https://localhost:8080/"
        },
        "outputId": "b9e668ee-d081-47a3-e5c0-d1ae373d20b1"
      },
      "source": [
        "X = np.array(['A','B','C','D','E'])\n",
        "X[1:-1]"
      ],
      "execution_count": null,
      "outputs": [
        {
          "output_type": "execute_result",
          "data": {
            "text/plain": [
              "array(['B', 'C', 'D'], dtype='<U1')"
            ]
          },
          "metadata": {
            "tags": []
          },
          "execution_count": 20
        }
      ]
    },
    {
      "cell_type": "code",
      "metadata": {
        "id": "Vr2wBbY89llt",
        "colab": {
          "base_uri": "https://localhost:8080/"
        },
        "outputId": "cc58e3df-9f3a-4420-e162-8a9d6f386da4"
      },
      "source": [
        "X = np.array(['A','B','C','D','E'])\n",
        "X[::-1]"
      ],
      "execution_count": null,
      "outputs": [
        {
          "output_type": "execute_result",
          "data": {
            "text/plain": [
              "array(['E', 'D', 'C', 'B', 'A'], dtype='<U1')"
            ]
          },
          "metadata": {
            "tags": []
          },
          "execution_count": 21
        }
      ]
    },
    {
      "cell_type": "code",
      "metadata": {
        "id": "dnyUVHLg9pO8",
        "colab": {
          "base_uri": "https://localhost:8080/"
        },
        "outputId": "c3eff1f3-fbdf-4b52-ed01-503c0b5a01e1"
      },
      "source": [
        "X = np.array(['A','B','C','D','E'])\n",
        "X[::2]"
      ],
      "execution_count": null,
      "outputs": [
        {
          "output_type": "execute_result",
          "data": {
            "text/plain": [
              "array(['A', 'C', 'E'], dtype='<U1')"
            ]
          },
          "metadata": {
            "tags": []
          },
          "execution_count": 22
        }
      ]
    },
    {
      "cell_type": "code",
      "metadata": {
        "id": "JcwfUhxk9tBV",
        "colab": {
          "base_uri": "https://localhost:8080/"
        },
        "outputId": "75b38d14-16ca-46ee-8603-4b6cb8ac0902"
      },
      "source": [
        "X = np.array([\n",
        "    [1,   2,  3,  4],\n",
        "    [5,   6,  7,  8],\n",
        "    [9,  10, 11, 12],\n",
        "    [13, 14, 15, 16]\n",
        "])\n",
        "X[0]"
      ],
      "execution_count": null,
      "outputs": [
        {
          "output_type": "execute_result",
          "data": {
            "text/plain": [
              "array([1, 2, 3, 4])"
            ]
          },
          "metadata": {
            "tags": []
          },
          "execution_count": 23
        }
      ]
    },
    {
      "cell_type": "code",
      "metadata": {
        "id": "gvps40bp9wtV",
        "colab": {
          "base_uri": "https://localhost:8080/"
        },
        "outputId": "55890aa3-6309-47b5-fdf9-1c594292d7a7"
      },
      "source": [
        "X = np.array([\n",
        "    [1,   2,  3,  4],\n",
        "    [5,   6,  7,  8],\n",
        "    [9,  10, 11, 12],\n",
        "    [13, 14, 15, 16]\n",
        "])\n",
        "X[-1]"
      ],
      "execution_count": null,
      "outputs": [
        {
          "output_type": "execute_result",
          "data": {
            "text/plain": [
              "array([13, 14, 15, 16])"
            ]
          },
          "metadata": {
            "tags": []
          },
          "execution_count": 24
        }
      ]
    },
    {
      "cell_type": "code",
      "metadata": {
        "id": "xiNl3YMS9zY9",
        "colab": {
          "base_uri": "https://localhost:8080/"
        },
        "outputId": "cb108ab8-5a53-4f02-eb97-c279e995e07a"
      },
      "source": [
        "X = np.array([\n",
        "    [1,   2,  3,  4],\n",
        "    [5,   6,  7,  8],\n",
        "    [9,  10, 11, 12],\n",
        "    [13, 14, 15, 16]\n",
        "])\n",
        "X[0,0]"
      ],
      "execution_count": null,
      "outputs": [
        {
          "output_type": "execute_result",
          "data": {
            "text/plain": [
              "1"
            ]
          },
          "metadata": {
            "tags": []
          },
          "execution_count": 26
        }
      ]
    },
    {
      "cell_type": "code",
      "metadata": {
        "id": "jzbh6uRp96Be",
        "colab": {
          "base_uri": "https://localhost:8080/"
        },
        "outputId": "b4399285-a502-44c2-ae52-6b99920a4a69"
      },
      "source": [
        "X = np.array([\n",
        "    [1,   2,  3,  4],\n",
        "    [5,   6,  7,  8],\n",
        "    [9,  10, 11, 12],\n",
        "    [13, 14, 15, 16]\n",
        "])\n",
        "X[-1,-1]"
      ],
      "execution_count": null,
      "outputs": [
        {
          "output_type": "execute_result",
          "data": {
            "text/plain": [
              "16"
            ]
          },
          "metadata": {
            "tags": []
          },
          "execution_count": 27
        }
      ]
    },
    {
      "cell_type": "code",
      "metadata": {
        "id": "XDRlYcXZ99o1",
        "colab": {
          "base_uri": "https://localhost:8080/"
        },
        "outputId": "457affb9-a5c7-4078-b7c5-2abd353d996b"
      },
      "source": [
        "X = np.array([\n",
        "    [1,   2,  3,  4],\n",
        "    [5,   6,  7,  8],\n",
        "    [9,  10, 11, 12],\n",
        "    [13, 14, 15, 16]\n",
        "])\n",
        "X[1:-1,1:-1]"
      ],
      "execution_count": null,
      "outputs": [
        {
          "output_type": "execute_result",
          "data": {
            "text/plain": [
              "array([[ 6,  7],\n",
              "       [10, 11]])"
            ]
          },
          "metadata": {
            "tags": []
          },
          "execution_count": 28
        }
      ]
    },
    {
      "cell_type": "code",
      "metadata": {
        "id": "zRXECYXk-IGN",
        "colab": {
          "base_uri": "https://localhost:8080/"
        },
        "outputId": "bc41b4a6-3398-4880-ca53-daa83c8f2f43"
      },
      "source": [
        "X = np.array([\n",
        "    [1,   2,  3,  4],\n",
        "    [5,   6,  7,  8],\n",
        "    [9,  10, 11, 12],\n",
        "    [13, 14, 15, 16]\n",
        "])\n",
        "X[:2,:2]"
      ],
      "execution_count": null,
      "outputs": [
        {
          "output_type": "execute_result",
          "data": {
            "text/plain": [
              "array([[1, 2],\n",
              "       [5, 6]])"
            ]
          },
          "metadata": {
            "tags": []
          },
          "execution_count": 29
        }
      ]
    },
    {
      "cell_type": "code",
      "metadata": {
        "id": "JoYysn4t-Rxl",
        "colab": {
          "base_uri": "https://localhost:8080/"
        },
        "outputId": "39f73fb4-6706-4c6e-e350-40ce0f8aaa15"
      },
      "source": [
        "X = np.array([\n",
        "    [1,   2,  3,  4],\n",
        "    [5,   6,  7,  8],\n",
        "    [9,  10, 11, 12],\n",
        "    [13, 14, 15, 16]\n",
        "])\n",
        "X[2:,2:]"
      ],
      "execution_count": null,
      "outputs": [
        {
          "output_type": "execute_result",
          "data": {
            "text/plain": [
              "array([[11, 12],\n",
              "       [15, 16]])"
            ]
          },
          "metadata": {
            "tags": []
          },
          "execution_count": 30
        }
      ]
    },
    {
      "cell_type": "code",
      "metadata": {
        "id": "c6cbdgJH-Ybr",
        "colab": {
          "base_uri": "https://localhost:8080/"
        },
        "outputId": "2015c76f-e3c9-4375-b800-e89fab3e8a13"
      },
      "source": [
        "X = [-5, -3, 0, 10, 40]\n",
        "np.array(X,np.float)"
      ],
      "execution_count": null,
      "outputs": [
        {
          "output_type": "execute_result",
          "data": {
            "text/plain": [
              "array([-5., -3.,  0., 10., 40.])"
            ]
          },
          "metadata": {
            "tags": []
          },
          "execution_count": 31
        }
      ]
    },
    {
      "cell_type": "code",
      "metadata": {
        "id": "vyUmJrF1-fzt",
        "colab": {
          "base_uri": "https://localhost:8080/"
        },
        "outputId": "28c20660-d54c-4a53-a63b-fb2a4ea34e5e"
      },
      "source": [
        "X =np.array( [-5, -3, 0, 10, 40])\n",
        "X[::-1]"
      ],
      "execution_count": null,
      "outputs": [
        {
          "output_type": "execute_result",
          "data": {
            "text/plain": [
              "array([40, 10,  0, -3, -5])"
            ]
          },
          "metadata": {
            "tags": []
          },
          "execution_count": 32
        }
      ]
    },
    {
      "cell_type": "code",
      "metadata": {
        "id": "Z53ElTDL-7-Z",
        "colab": {
          "base_uri": "https://localhost:8080/"
        },
        "outputId": "b58aa8a3-a0a7-4335-933b-a5d80a81130a"
      },
      "source": [
        "X =np.array( [-5, -3, 0, 10, 40])\n",
        "X.sort()\n",
        "X"
      ],
      "execution_count": null,
      "outputs": [
        {
          "output_type": "execute_result",
          "data": {
            "text/plain": [
              "array([-5, -3,  0, 10, 40])"
            ]
          },
          "metadata": {
            "tags": []
          },
          "execution_count": 33
        }
      ]
    },
    {
      "cell_type": "code",
      "metadata": {
        "id": "NY5WR6Fw_Bi0",
        "colab": {
          "base_uri": "https://localhost:8080/"
        },
        "outputId": "59a310e6-f4e9-4886-f532-6aedde53f9ee"
      },
      "source": [
        "X=np.zeros(10)\n",
        "X[4]=1\n",
        "X=X.astype(int)\n",
        "X"
      ],
      "execution_count": null,
      "outputs": [
        {
          "output_type": "execute_result",
          "data": {
            "text/plain": [
              "array([0, 0, 0, 0, 1, 0, 0, 0, 0, 0])"
            ]
          },
          "metadata": {
            "tags": []
          },
          "execution_count": 38
        }
      ]
    },
    {
      "cell_type": "code",
      "metadata": {
        "id": "RkPGmBrz_KJ0",
        "colab": {
          "base_uri": "https://localhost:8080/"
        },
        "outputId": "986a9043-ace6-48b7-82c5-30b42f7cab46"
      },
      "source": [
        "X = np.array([10, 20, 30, 50])\n",
        "X[3]=40\n",
        "X"
      ],
      "execution_count": null,
      "outputs": [
        {
          "output_type": "execute_result",
          "data": {
            "text/plain": [
              "array([10, 20, 30, 40])"
            ]
          },
          "metadata": {
            "tags": []
          },
          "execution_count": 3
        }
      ]
    },
    {
      "cell_type": "code",
      "metadata": {
        "id": "t953d1ZDrUnB",
        "colab": {
          "base_uri": "https://localhost:8080/"
        },
        "outputId": "a60efaae-e9a2-441b-aaf7-d7cf070dfff5"
      },
      "source": [
        "\n",
        "X = np.array([\n",
        "    [1,   2,  3,  4],\n",
        "    [5,   6,  7,  8],\n",
        "    [9,  10, 11, 12],\n",
        "    [13, 14, 15, 16]\n",
        "])\n",
        "X[-1]=np.array([1,1,1,1,])\n",
        "X"
      ],
      "execution_count": null,
      "outputs": [
        {
          "output_type": "execute_result",
          "data": {
            "text/plain": [
              "array([[ 1,  2,  3,  4],\n",
              "       [ 5,  6,  7,  8],\n",
              "       [ 9, 10, 11, 12],\n",
              "       [ 1,  1,  1,  1]])"
            ]
          },
          "metadata": {
            "tags": []
          },
          "execution_count": 5
        }
      ]
    },
    {
      "cell_type": "code",
      "metadata": {
        "id": "qYSLLMzYrdyR",
        "colab": {
          "base_uri": "https://localhost:8080/"
        },
        "outputId": "0122124d-ddbc-4b57-e4f9-d9aac1100708"
      },
      "source": [
        "\n",
        "X = np.array([\n",
        "    [1,   2,  3,  4],\n",
        "    [5,   6,  7,  8],\n",
        "    [9,  10, 11, 12],\n",
        "    [13, 14, 15, 16]\n",
        "])\n",
        "X[-1,-1]=0\n",
        "X"
      ],
      "execution_count": null,
      "outputs": [
        {
          "output_type": "execute_result",
          "data": {
            "text/plain": [
              "array([[ 1,  2,  3,  4],\n",
              "       [ 5,  6,  7,  8],\n",
              "       [ 9, 10, 11, 12],\n",
              "       [13, 14, 15,  0]])"
            ]
          },
          "metadata": {
            "tags": []
          },
          "execution_count": 6
        }
      ]
    },
    {
      "cell_type": "code",
      "metadata": {
        "id": "SoE53MEmrkp5",
        "colab": {
          "base_uri": "https://localhost:8080/"
        },
        "outputId": "03527608-49cf-47d4-d27d-2ba8bc9ad634"
      },
      "source": [
        "X = np.array([\n",
        "    [1,   2,  3,  4],\n",
        "    [5,   6,  7,  8],\n",
        "    [9,  10, 11, 12],\n",
        "    [13, 14, 15, 16]\n",
        "])\n",
        "X+5\n"
      ],
      "execution_count": null,
      "outputs": [
        {
          "output_type": "execute_result",
          "data": {
            "text/plain": [
              "array([[ 6,  7,  8,  9],\n",
              "       [10, 11, 12, 13],\n",
              "       [14, 15, 16, 17],\n",
              "       [18, 19, 20, 21]])"
            ]
          },
          "metadata": {
            "tags": []
          },
          "execution_count": 8
        }
      ]
    },
    {
      "cell_type": "code",
      "metadata": {
        "id": "r6bVi0q-rsZJ",
        "colab": {
          "base_uri": "https://localhost:8080/"
        },
        "outputId": "54ff8917-5bd2-4c5b-ac92-af686fa73aa5"
      },
      "source": [
        "X = np.array([-1,2,0,-4,5,6,0,0,-9,10])\n",
        "mask=X<=0\n",
        "mask"
      ],
      "execution_count": null,
      "outputs": [
        {
          "output_type": "execute_result",
          "data": {
            "text/plain": [
              "array([ True, False,  True,  True, False, False,  True,  True,  True,\n",
              "       False])"
            ]
          },
          "metadata": {
            "tags": []
          },
          "execution_count": 9
        }
      ]
    },
    {
      "cell_type": "code",
      "metadata": {
        "id": "8z0jGok2rzPB",
        "colab": {
          "base_uri": "https://localhost:8080/"
        },
        "outputId": "7bb5409c-c768-4c5a-9beb-a7320a3fa139"
      },
      "source": [
        "X = np.array([-1,2,0,-4,5,6,0,0,-9,10])\n",
        "mask=X<=0\n",
        "X[mask]"
      ],
      "execution_count": null,
      "outputs": [
        {
          "output_type": "execute_result",
          "data": {
            "text/plain": [
              "array([-1,  0, -4,  0,  0, -9])"
            ]
          },
          "metadata": {
            "tags": []
          },
          "execution_count": 10
        }
      ]
    },
    {
      "cell_type": "code",
      "metadata": {
        "id": "iyXOOzB1r5X4",
        "colab": {
          "base_uri": "https://localhost:8080/"
        },
        "outputId": "eea91baa-f326-4448-e0f9-466c54ea7abb"
      },
      "source": [
        "X = np.array([-1,2,0,-4,5,6,0,0,-9,10])\n",
        "mask=X>5\n",
        "X[mask]"
      ],
      "execution_count": null,
      "outputs": [
        {
          "output_type": "execute_result",
          "data": {
            "text/plain": [
              "array([ 6, 10])"
            ]
          },
          "metadata": {
            "tags": []
          },
          "execution_count": 11
        }
      ]
    },
    {
      "cell_type": "code",
      "metadata": {
        "id": "Kox4nYzasA74",
        "colab": {
          "base_uri": "https://localhost:8080/"
        },
        "outputId": "031455dc-499e-4ecf-ce36-f352247d80ce"
      },
      "source": [
        "X = np.array([-1,2,0,-4,5,6,0,0,-9,10])\n",
        "mask=X>X.mean()\n",
        "X[mask]"
      ],
      "execution_count": null,
      "outputs": [
        {
          "output_type": "execute_result",
          "data": {
            "text/plain": [
              "array([ 2,  5,  6, 10])"
            ]
          },
          "metadata": {
            "tags": []
          },
          "execution_count": 13
        }
      ]
    },
    {
      "cell_type": "code",
      "metadata": {
        "id": "-VIY8s2csIsv",
        "colab": {
          "base_uri": "https://localhost:8080/"
        },
        "outputId": "02b9fec0-26e1-4111-e594-1c83fe5cce46"
      },
      "source": [
        "X = np.array([-1,2,0,-4,5,6,0,0,-9,10])\n",
        "mask=(X==2) |(X==10)\n",
        "X[mask]"
      ],
      "execution_count": null,
      "outputs": [
        {
          "output_type": "execute_result",
          "data": {
            "text/plain": [
              "array([ 2, 10])"
            ]
          },
          "metadata": {
            "tags": []
          },
          "execution_count": 15
        }
      ]
    },
    {
      "cell_type": "code",
      "metadata": {
        "id": "BdAwJM5AsViH",
        "colab": {
          "base_uri": "https://localhost:8080/"
        },
        "outputId": "e617cefc-739c-45f3-af5b-59a10bbffd8e"
      },
      "source": [
        "X = np.array([-1,2,0,-4,5,6,0,0,-9,10])\n",
        "X.all()"
      ],
      "execution_count": null,
      "outputs": [
        {
          "output_type": "execute_result",
          "data": {
            "text/plain": [
              "False"
            ]
          },
          "metadata": {
            "tags": []
          },
          "execution_count": 16
        }
      ]
    },
    {
      "cell_type": "code",
      "metadata": {
        "id": "jSroF8imsd6v",
        "colab": {
          "base_uri": "https://localhost:8080/"
        },
        "outputId": "91abb4c7-36e8-4409-a1fd-3985dc3dddbb"
      },
      "source": [
        "X = np.array([-1,2,0,-4,5,6,0,0,-9,10])\n",
        "X.any()"
      ],
      "execution_count": null,
      "outputs": [
        {
          "output_type": "execute_result",
          "data": {
            "text/plain": [
              "True"
            ]
          },
          "metadata": {
            "tags": []
          },
          "execution_count": 17
        }
      ]
    },
    {
      "cell_type": "code",
      "metadata": {
        "id": "XknFrsSNsi3X",
        "colab": {
          "base_uri": "https://localhost:8080/"
        },
        "outputId": "04f87b62-3287-43e6-def2-299a1a2d0cdc"
      },
      "source": [
        "X = np.array([-1,2,0,-4,5,6,0,0,-9,10])\n",
        "X.sum()"
      ],
      "execution_count": null,
      "outputs": [
        {
          "output_type": "execute_result",
          "data": {
            "text/plain": [
              "9"
            ]
          },
          "metadata": {
            "tags": []
          },
          "execution_count": 18
        }
      ]
    },
    {
      "cell_type": "code",
      "metadata": {
        "id": "rDCaMFrbsm_v",
        "colab": {
          "base_uri": "https://localhost:8080/"
        },
        "outputId": "2c825e42-c8fb-4d5c-db67-8516db4efe47"
      },
      "source": [
        "X = np.array([-1,2,0,-4,5,6,0,0,-9,10])\n",
        "X.mean()"
      ],
      "execution_count": null,
      "outputs": [
        {
          "output_type": "execute_result",
          "data": {
            "text/plain": [
              "0.9"
            ]
          },
          "metadata": {
            "tags": []
          },
          "execution_count": 19
        }
      ]
    },
    {
      "cell_type": "code",
      "metadata": {
        "id": "tUoPI7tAspOv",
        "colab": {
          "base_uri": "https://localhost:8080/"
        },
        "outputId": "bf860ebb-f272-4ca0-e2fe-aa7012c33d33"
      },
      "source": [
        "X = np.array([\n",
        "    [1,   2,  3,  4],\n",
        "    [5,   6,  7,  8],\n",
        "    [9,  10, 11, 12],\n",
        "    [13, 14, 15, 16]\n",
        "])\n",
        "X.sum(axis=0)"
      ],
      "execution_count": null,
      "outputs": [
        {
          "output_type": "execute_result",
          "data": {
            "text/plain": [
              "array([28, 32, 36, 40])"
            ]
          },
          "metadata": {
            "tags": []
          },
          "execution_count": 20
        }
      ]
    },
    {
      "cell_type": "code",
      "metadata": {
        "id": "QEBB2JLAsu4g",
        "colab": {
          "base_uri": "https://localhost:8080/"
        },
        "outputId": "d3ba7078-cf95-48db-be5d-aa685bd9b3f6"
      },
      "source": [
        "X = np.array([\n",
        "    [1,   2,  3,  4],\n",
        "    [5,   6,  7,  8],\n",
        "    [9,  10, 11, 12],\n",
        "    [13, 14, 15, 16]\n",
        "])\n",
        "X.mean(axis=1)"
      ],
      "execution_count": null,
      "outputs": [
        {
          "output_type": "execute_result",
          "data": {
            "text/plain": [
              "array([ 2.5,  6.5, 10.5, 14.5])"
            ]
          },
          "metadata": {
            "tags": []
          },
          "execution_count": 21
        }
      ]
    },
    {
      "cell_type": "code",
      "metadata": {
        "id": "OWBEYa5Fszh_",
        "colab": {
          "base_uri": "https://localhost:8080/"
        },
        "outputId": "655a00b8-ffa9-435a-8279-9a305c7ade0a"
      },
      "source": [
        "X = np.array([1, 2, 0, 4, 5, 6, 0, 0, 9, 10])\n",
        "X.max()"
      ],
      "execution_count": null,
      "outputs": [
        {
          "output_type": "execute_result",
          "data": {
            "text/plain": [
              "10"
            ]
          },
          "metadata": {
            "tags": []
          },
          "execution_count": 22
        }
      ]
    }
  ]
}